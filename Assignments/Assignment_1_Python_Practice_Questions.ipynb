{
 "cells": [
  {
   "cell_type": "code",
   "execution_count": 2,
   "metadata": {
    "id": "F8Zm7tyCfZO1"
   },
   "outputs": [],
   "source": [
    "#necessary imports\n",
    "import sys\n",
    "import math\n",
    "import pdb\n",
    "import numpy as np\n",
    "from functools import reduce"
   ]
  },
  {
   "cell_type": "markdown",
   "metadata": {
    "id": "vvV8CQUgduQp"
   },
   "source": [
    "1. Write a function that inputs a number and prints the multiplication table of that number"
   ]
  },
  {
   "cell_type": "code",
   "execution_count": 3,
   "metadata": {
    "colab": {
     "base_uri": "https://localhost:8080/",
     "height": 0
    },
    "id": "-U6Q6bAhdbh2",
    "outputId": "20f451cc-5614-427c-e402-445524e7f117"
   },
   "outputs": [
    {
     "name": "stdout",
     "output_type": "stream",
     "text": [
      "Enter n : \n",
      "5\n",
      "1 x 5 = 5\n",
      "2 x 5 = 10\n",
      "3 x 5 = 15\n",
      "4 x 5 = 20\n",
      "5 x 5 = 25\n",
      "6 x 5 = 30\n",
      "7 x 5 = 35\n",
      "8 x 5 = 40\n",
      "9 x 5 = 45\n",
      "10 x 5 = 50\n",
      "11 x 5 = 55\n",
      "12 x 5 = 60\n",
      "13 x 5 = 65\n",
      "14 x 5 = 70\n",
      "15 x 5 = 75\n",
      "16 x 5 = 80\n",
      "17 x 5 = 85\n",
      "18 x 5 = 90\n",
      "19 x 5 = 95\n",
      "20 x 5 = 100\n"
     ]
    }
   ],
   "source": [
    "def mul_table(n):\n",
    "  \"\"\"\n",
    "  It is assumed that a number will be passed and the multiplication table (upto 20 is printed)\n",
    "  \"\"\"\n",
    "  for i in range(1,21):\n",
    "    print(\"{} x {} = {}\".format(i,n,(n*i)))\n",
    "\n",
    "print(\"Enter n : \")\n",
    "try:\n",
    "  n = int(input())\n",
    "  mul_table(n)\n",
    "except:\n",
    "  print('Got Exception : ', sys.exc_info()[0], '. So, enter a proper input.')"
   ]
  },
  {
   "cell_type": "markdown",
   "metadata": {
    "id": "YCBz8UXLfwD1"
   },
   "source": [
    "2. Write a program to print twin primes less than 1000. If two consecutive odd numbers are\n",
    "both prime then they are known as twin primes"
   ]
  },
  {
   "cell_type": "code",
   "execution_count": 4,
   "metadata": {
    "colab": {
     "base_uri": "https://localhost:8080/",
     "height": 0
    },
    "id": "-Hmwx13Pd_CG",
    "outputId": "8ceacfb0-a8e6-4c0a-c8d0-61c69045713e"
   },
   "outputs": [
    {
     "name": "stdout",
     "output_type": "stream",
     "text": [
      "(3,5)\n",
      "(5,7)\n",
      "(11,13)\n",
      "(17,19)\n",
      "(29,31)\n",
      "(41,43)\n",
      "(59,61)\n",
      "(71,73)\n",
      "(101,103)\n",
      "(107,109)\n",
      "(137,139)\n",
      "(149,151)\n",
      "(179,181)\n",
      "(191,193)\n",
      "(197,199)\n",
      "(227,229)\n",
      "(239,241)\n",
      "(269,271)\n",
      "(281,283)\n",
      "(311,313)\n",
      "(347,349)\n",
      "(419,421)\n",
      "(431,433)\n",
      "(461,463)\n",
      "(521,523)\n",
      "(569,571)\n",
      "(599,601)\n",
      "(617,619)\n",
      "(641,643)\n",
      "(659,661)\n",
      "(809,811)\n",
      "(821,823)\n",
      "(827,829)\n",
      "(857,859)\n",
      "(881,883)\n"
     ]
    }
   ],
   "source": [
    "till = 1000\n",
    "\n",
    "def isPrime(n):\n",
    "  \"\"\"\n",
    "  returns true if a number is prime, after checking the divisibility till the sqrt(n)+1\n",
    "  \"\"\"\n",
    "  end = math.ceil(math.sqrt(n))+1\n",
    "  for j in range(2, end, 1):\n",
    "    if n != j and n%j == 0 :\n",
    "      return False\n",
    "  return True\n",
    "\n",
    "def printTwinPrimes():\n",
    "  \"\"\"\n",
    "  Prints the twin prime numbers\n",
    "  \"\"\"\n",
    "  oldPrime = 3\n",
    "  for i in range(4, till+1):\n",
    "    if isPrime(i):\n",
    "      if oldPrime+2 == i:\n",
    "        print(\"({},{})\".format(oldPrime,i))\n",
    "      oldPrime = i   \n",
    "\n",
    "\n",
    "printTwinPrimes()"
   ]
  },
  {
   "cell_type": "markdown",
   "metadata": {
    "id": "nELNKcPYkTEr"
   },
   "source": [
    "3. Write a program to find out the prime factors of a number. Example: prime factors of 56 -\n",
    "2, 2, 2, 7"
   ]
  },
  {
   "cell_type": "code",
   "execution_count": 5,
   "metadata": {
    "colab": {
     "base_uri": "https://localhost:8080/",
     "height": 0
    },
    "id": "GA4Lp9HrenhC",
    "outputId": "dc5a0fa7-95de-402e-cc7c-7084a19caae3"
   },
   "outputs": [
    {
     "name": "stdout",
     "output_type": "stream",
     "text": [
      "Prime factors of  56  are  [2, 2, 2, 7]\n"
     ]
    }
   ],
   "source": [
    "'''\n",
    "After writing normal logic, following method has been found due to huge run time of bruteforce methods.\n",
    "Ref : https://www.geeksforgeeks.org/analysis-different-methods-find-prime-number-python\n",
    "'''\n",
    "def find_primes_Sieve_method(n):\n",
    "  \"\"\"\n",
    "  Returns the list of prime numbers from 2 to n\n",
    "  \"\"\"\n",
    "  seive = [True for i in range(n+1)]\n",
    "  p = 2\n",
    "  while (p*p <= n):\n",
    "    if seive[p] == True: #prime number\n",
    "      for i in range(p*p, n+1, p):\n",
    "        seive[i] = False\n",
    "    p = p+1\n",
    "\n",
    "  seive_primes = [index for index, i in enumerate(seive) if i==True and index>1]\n",
    "  return seive_primes\n",
    "\n",
    "def find_factors(n, primes):\n",
    "  \"\"\"\n",
    "  finds the factors based on the numbers present in the primes array\n",
    "  \"\"\"\n",
    "  factors = []\n",
    "  for i in range(len(primes)):\n",
    "    while n%primes[i] == 0:\n",
    "      factors.append(primes[i])\n",
    "      n = n/primes[i]\n",
    "  return factors\n",
    "\n",
    "n = 56 #int(input())\n",
    "primes = find_primes_Sieve_method(math.ceil(n/2)) #it is enough to find prime numbers from 2 to n/2\n",
    "print('Prime factors of ', n, ' are ', find_factors(n, primes))\n"
   ]
  },
  {
   "cell_type": "markdown",
   "metadata": {
    "id": "rk-Lq9t9y8NZ"
   },
   "source": [
    "4. Write a program to implement these formulae of permutations and combinations.\n",
    "\n",
    "Number of permutations of n objects taken r at a time: p(n, r) = n! / (n-r)!. \n",
    "\n",
    "Number of\n",
    "combinations of n objects taken r at a time is: c(n, r) = n! / (r!*(n-r)!) = p(n,r) / r!"
   ]
  },
  {
   "cell_type": "code",
   "execution_count": 6,
   "metadata": {
    "colab": {
     "base_uri": "https://localhost:8080/",
     "height": 0
    },
    "id": "uZnlapQBy5GR",
    "outputId": "805d4856-0521-4ebb-c69c-7c2c78210607"
   },
   "outputs": [
    {
     "name": "stdout",
     "output_type": "stream",
     "text": [
      "5040\n",
      "151200\n",
      "210.0\n",
      "210.0\n"
     ]
    }
   ],
   "source": [
    "def nPr(n,r):\n",
    "  \"\"\"\n",
    "  return nPr\n",
    "  \"\"\"\n",
    "  #now it's the product of (r+1)(r+2) till n after doing number cancellations\n",
    "  #rather than finding factorials\n",
    "  fact = 1\n",
    "  for i in range(r+1, n+1):\n",
    "    fact = fact*i\n",
    "  return fact\n",
    "\n",
    "def nCr(n,r):\n",
    "  \"\"\"\n",
    "  returns nCr\n",
    "  \"\"\"\n",
    "\n",
    "  #nCr = nC(r-1). After cancellations, there will be only min(r,n-r) present in the numerator and denominator\n",
    "  r = min(r, n-r)\n",
    "  num, den = 1,1\n",
    "  for i in range(n, n-r, -1):\n",
    "    num = num * i\n",
    "  for i in range(1, r+1):\n",
    "    den = den * i\n",
    "  return num/den\n",
    "\n",
    "print(nPr(10,6))\n",
    "print(nPr(10,4))\n",
    "print(nCr(10,6))\n",
    "print(nCr(10,4))\n"
   ]
  },
  {
   "cell_type": "markdown",
   "metadata": {
    "id": "mP6U7BsF4yGU"
   },
   "source": [
    "5. Write a function that converts a decimal number to binary number"
   ]
  },
  {
   "cell_type": "code",
   "execution_count": 7,
   "metadata": {
    "colab": {
     "base_uri": "https://localhost:8080/",
     "height": 0
    },
    "id": "wHaKUhUq3ukG",
    "outputId": "0cd32398-04ee-4d03-9150-333c2e832f8e"
   },
   "outputs": [
    {
     "name": "stdout",
     "output_type": "stream",
     "text": [
      "1\n",
      "11\n",
      "110\n",
      "1110\n",
      "1111\n"
     ]
    }
   ],
   "source": [
    "def to_binary(n):\n",
    "  \"\"\"\n",
    "  Input : n <br>\n",
    "  Output : binary of n <br />\n",
    "  Binary found by dividing the number by 2 and keep going till it reaches zero\n",
    "  \"\"\"\n",
    "  bin = []\n",
    "  while n > 0:\n",
    "    bin.append(n%2)\n",
    "    n = math.floor(n/2)\n",
    "  return reduce(lambda x,y: str(x)+str(y), list(reversed(bin)))\n",
    "\n",
    "\n",
    "print(to_binary(1))\n",
    "print(to_binary(3))\n",
    "print(to_binary(6))\n",
    "print(to_binary(14))\n",
    "print(to_binary(15))\n"
   ]
  },
  {
   "cell_type": "markdown",
   "metadata": {
    "id": "i5FLo3VL53qT"
   },
   "source": [
    "6. Write a function cubesum() that accepts an integer and returns the sum of the cubes of\n",
    "individual digits of that number. Use this function to make functions PrintArmstrong() and\n",
    "isArmstrong() to print Armstrong numbers and to find whether is an Armstrong number."
   ]
  },
  {
   "cell_type": "code",
   "execution_count": 8,
   "metadata": {
    "colab": {
     "base_uri": "https://localhost:8080/",
     "height": 0
    },
    "id": "qs4oLcJa54cb",
    "outputId": "b76b136b-dd12-4014-8151-1a29287d5e36"
   },
   "outputs": [
    {
     "name": "stdout",
     "output_type": "stream",
     "text": [
      "1\n",
      "153\n",
      "370\n",
      "371\n",
      "407\n"
     ]
    }
   ],
   "source": [
    "def cubesum(n):\n",
    "  \"\"\"\n",
    "  Returns the sum of cube of digits of a number\n",
    "  \"\"\"\n",
    "  sum = 0\n",
    "  while n>0:\n",
    "    sum += (n%10)**3\n",
    "    n = math.floor(n/10)\n",
    "  return sum\n",
    "\n",
    "def isArmstrong(n):\n",
    "  \"\"\"\n",
    "  Returns True : if a number n is equal to it's cube sum\n",
    "  \"\"\"\n",
    "  return cubesum(n) == n\n",
    "\n",
    "def PrintArmstrong(start, end):\n",
    "  \"\"\"\n",
    "  Prints all the Armstrong numbers in the range [start, end]\n",
    "  \"\"\"\n",
    "  for i in range(start, end+1):\n",
    "    if(isArmstrong(i)):\n",
    "      print(i)\n",
    "\n",
    "PrintArmstrong(1, 1000)"
   ]
  },
  {
   "cell_type": "markdown",
   "metadata": {
    "id": "1nzFx5Wm6wk5"
   },
   "source": [
    "---\n",
    "7. Write a function prodDigits() that inputs a number and returns the product of digits of that\n",
    "number."
   ]
  },
  {
   "cell_type": "code",
   "execution_count": 9,
   "metadata": {
    "colab": {
     "base_uri": "https://localhost:8080/",
     "height": 0
    },
    "id": "CMOLuB_B6y7C",
    "outputId": "f032665c-e8d2-4c40-f9ae-9c325045bda3"
   },
   "outputs": [
    {
     "name": "stdout",
     "output_type": "stream",
     "text": [
      "0\n",
      "6\n",
      "2\n",
      "72\n",
      "16\n"
     ]
    }
   ],
   "source": [
    "def prodDigits(n):\n",
    "  \"\"\"\n",
    "  returns product of each digits in a number 'n'\n",
    "  \"\"\"\n",
    "  prod = 1\n",
    "  while n > 0:\n",
    "    prod = prod * (n%10)\n",
    "    n = n//10\n",
    "  return prod\n",
    "\n",
    "print(prodDigits(100))\n",
    "print(prodDigits(123))\n",
    "print(prodDigits(12))\n",
    "print(prodDigits(98))\n",
    "print(prodDigits(1422))"
   ]
  },
  {
   "cell_type": "markdown",
   "metadata": {
    "id": "jbhuqTwZ9kSD"
   },
   "source": [
    "8. \n",
    "If all digits of a number n are multiplied by each other repeating with the product, the one\n",
    "digit number obtained at last is called the multiplicative digital root of n. The number of\n",
    "times digits need to be multiplied to reach one digit is called the multiplicative\n",
    "persistance of n.\n",
    "\n",
    "Example:  \n",
    "86 -> 48 -> 32 -> 6 (MDR 6, MPersistence 3)  \n",
    " 341 -> 12->2 (MDR 2, MPersistence 2)\n",
    "\n",
    "Using the function prodDigits() of previous exercise write functions MDR() and\n",
    "MPersistence() that input a number and return its multiplicative digital root and\n",
    "multiplicative persistence respectively"
   ]
  },
  {
   "cell_type": "code",
   "execution_count": 10,
   "metadata": {
    "colab": {
     "base_uri": "https://localhost:8080/",
     "height": 0
    },
    "id": "rwwUSis09n4z",
    "outputId": "655a959c-d22f-435f-ce2f-25729820e0d4"
   },
   "outputs": [
    {
     "name": "stdout",
     "output_type": "stream",
     "text": [
      "6\n",
      "2\n",
      "3\n",
      "2\n"
     ]
    }
   ],
   "source": [
    "def MDR(n):\n",
    "  \"\"\"\n",
    "  Drill down method of prodDigits() method, till we get one digit result\n",
    "  \"\"\"\n",
    "  prod = prodDigits(n)\n",
    "  while prod>9:\n",
    "    prod = prodDigits(prod)\n",
    "  return prod\n",
    "\n",
    "def MPersistence(n):\n",
    "  \"\"\"\n",
    "  Find the level of drill down of prodDigits() method, till we get one digit result\n",
    "  \"\"\"\n",
    "  prod = prodDigits(n)\n",
    "  level = 1\n",
    "  while prod>9:\n",
    "    prod = prodDigits(prod)\n",
    "    level += 1\n",
    "  return level\n",
    "\n",
    "print(MDR(86))\n",
    "print(MDR(341))\n",
    "print(MPersistence(86))\n",
    "print(MPersistence(341))"
   ]
  },
  {
   "cell_type": "markdown",
   "metadata": {
    "id": "pU4zQ1OZ_PGa"
   },
   "source": [
    "9. Write a function sumPdivisors() that finds the sum of proper divisors of a number. Proper\n",
    "divisors of a number are those numbers by which the number is divisible, except the\n",
    "number itself. For example proper divisors of 36 are 1, 2, 3, 4, 6, 9, 18"
   ]
  },
  {
   "cell_type": "code",
   "execution_count": 11,
   "metadata": {
    "colab": {
     "base_uri": "https://localhost:8080/",
     "height": 0
    },
    "id": "P3CQuEJj_R8C",
    "outputId": "887775b6-161f-4ac8-e7e6-14d710a8ef36"
   },
   "outputs": [
    {
     "name": "stdout",
     "output_type": "stream",
     "text": [
      "Proper Divisors of 36 are [1, 2, 3, 4, 6, 9, 12, 18]\n",
      "55\n"
     ]
    }
   ],
   "source": [
    "def sumPdivisors(n, print_divisors=False):\n",
    "  \"\"\"\n",
    "  Find the divisors of a number by dividing till n/2. Then sums it.\n",
    "\n",
    "  Parameters\n",
    "  ----------\n",
    "  n : int - Input\n",
    "  print_divisors : bool [Optional] - Used to determine if list of divisors have to be printed\n",
    "  \"\"\"\n",
    "  pdiv = []\n",
    "  sum = 0;\n",
    "  for i in range(1, n//2+1):\n",
    "    if n % i == 0:\n",
    "      sum += i\n",
    "      pdiv.append(i)\n",
    "  if print_divisors:\n",
    "    print('Proper Divisors of {} are {}'.format(n, pdiv))\n",
    "  return sum\n",
    "\n",
    "print(sumPdivisors(36, print_divisors=True))"
   ]
  },
  {
   "cell_type": "code",
   "execution_count": 12,
   "metadata": {
    "colab": {
     "base_uri": "https://localhost:8080/",
     "height": 52
    },
    "id": "1wUOfr4UE6fC",
    "outputId": "c05d6415-bcfd-4592-bb08-e8934dd705a8"
   },
   "outputs": [
    {
     "data": {
      "text/plain": [
       "<function __main__.sumPdivisors(n, print_divisors=False)>"
      ]
     },
     "execution_count": 12,
     "metadata": {},
     "output_type": "execute_result"
    }
   ],
   "source": [
    "sumPdivisors"
   ]
  },
  {
   "cell_type": "markdown",
   "metadata": {
    "id": "uzaITuEDAMcR"
   },
   "source": [
    "10. A number is called perfect if the sum of proper divisors of that number is equal to the\n",
    "number. For example 28 is perfect number, since 1+2+4+7+14=28. Write a program to\n",
    "print all the perfect numbers in a given range"
   ]
  },
  {
   "cell_type": "code",
   "execution_count": 13,
   "metadata": {
    "colab": {
     "base_uri": "https://localhost:8080/",
     "height": 0
    },
    "id": "Jzk_3m8FAOTH",
    "outputId": "f37ef40f-cf4c-4ffe-ac23-c94365da9a9c"
   },
   "outputs": [
    {
     "name": "stdout",
     "output_type": "stream",
     "text": [
      "6\n",
      "28\n"
     ]
    }
   ],
   "source": [
    "start = 1\n",
    "end = 100\n",
    "for i in range(start, end+1):\n",
    "  if sumPdivisors(i) == i:\n",
    "    print(i)"
   ]
  },
  {
   "cell_type": "markdown",
   "metadata": {
    "id": "bXtsxb1eAr8m"
   },
   "source": [
    "11.\n",
    "Two different numbers are called amicable numbers if the sum of the proper divisors of\n",
    "each is equal to the other number. For example 220 and 284 are amicable numbers.  \n",
    "Sum of proper divisors of 220 = 1+2+4+5+10+11+20+22+44+55+110 = 284  \n",
    "Sum of proper divisors of 284 = 1+2+4+71+142 = 220  \n",
    "Write a function to print pairs of amicable numbers in a range"
   ]
  },
  {
   "cell_type": "code",
   "execution_count": 14,
   "metadata": {
    "colab": {
     "base_uri": "https://localhost:8080/",
     "height": 0
    },
    "id": "p-WvatcSAbPX",
    "outputId": "a911e06c-f4f8-4954-ed2c-d1a19beed252"
   },
   "outputs": [
    {
     "name": "stdout",
     "output_type": "stream",
     "text": [
      "{(284, 220)}\n"
     ]
    }
   ],
   "source": [
    "start = 0\n",
    "end = 300\n",
    "\n",
    "result = [False for i in range(start, end+1)]\n",
    "data = set()\n",
    "\n",
    "for i in range(start, end+1):\n",
    "  if result[i] == False:\n",
    "    pdiv_sum = sumPdivisors(i)\n",
    "    rev_sum = sumPdivisors(pdiv_sum)\n",
    "\n",
    "    if (i == rev_sum and result[pdiv_sum] == False and i != pdiv_sum):\n",
    "      result[i] = True\n",
    "      result[pdiv_sum] = True\n",
    "      data.add((pdiv_sum, rev_sum)) #answer returned as set of tuples\n",
    "\n",
    "print(data)"
   ]
  },
  {
   "cell_type": "markdown",
   "metadata": {
    "id": "1CTHIeeqCkvr"
   },
   "source": [
    "12. Write a program which can filter odd numbers in a list by using filter function"
   ]
  },
  {
   "cell_type": "code",
   "execution_count": 15,
   "metadata": {
    "colab": {
     "base_uri": "https://localhost:8080/",
     "height": 0
    },
    "id": "apBY7ZqmCm72",
    "outputId": "80a30823-ea0f-48dd-96a5-050ae73b6b42"
   },
   "outputs": [
    {
     "name": "stdout",
     "output_type": "stream",
     "text": [
      "[0, 1, 2, 3, 4, 5, 6, 7, 8, 9, 10, 11, 12, 13, 14, 15, 16, 17, 18, 19, 20, 21, 22, 23, 24, 25, 26, 27, 28, 29, 30, 31, 32, 33, 34, 35, 36, 37, 38, 39, 40, 41, 42, 43, 44, 45, 46, 47, 48, 49, 50, 51, 52, 53, 54, 55, 56, 57, 58, 59, 60, 61, 62, 63, 64, 65, 66, 67, 68, 69, 70, 71, 72, 73, 74, 75, 76, 77, 78, 79, 80, 81, 82, 83, 84, 85, 86, 87, 88, 89, 90, 91, 92, 93, 94, 95, 96, 97, 98, 99]\n",
      "[1, 3, 5, 7, 9, 11, 13, 15, 17, 19, 21, 23, 25, 27, 29, 31, 33, 35, 37, 39, 41, 43, 45, 47, 49, 51, 53, 55, 57, 59, 61, 63, 65, 67, 69, 71, 73, 75, 77, 79, 81, 83, 85, 87, 89, 91, 93, 95, 97, 99]\n"
     ]
    }
   ],
   "source": [
    "data = [i for i in range(0, 100)]\n",
    "print(data)\n",
    "filtered_data = list(filter(lambda x: x%2 != 0, data)) #i guessed that filter odd number means \"get the odd numbers\"\n",
    "print(filtered_data)"
   ]
  },
  {
   "cell_type": "markdown",
   "metadata": {
    "id": "esdpcIPEC6VZ"
   },
   "source": [
    "13. Write a program which can map() to make a list whose elements are cube of elements in\n",
    "a given list"
   ]
  },
  {
   "cell_type": "code",
   "execution_count": 16,
   "metadata": {
    "colab": {
     "base_uri": "https://localhost:8080/",
     "height": 0
    },
    "id": "hneMhiBMCwPf",
    "outputId": "fb55e274-d802-4280-cefa-2c2faba63fd4"
   },
   "outputs": [
    {
     "name": "stdout",
     "output_type": "stream",
     "text": [
      "[1, 3, 5, 7, 9, 11, 13, 15, 17, 19, 21, 23]\n",
      "[1, 27, 125, 343, 729, 1331, 2197, 3375, 4913, 6859, 9261, 12167]\n"
     ]
    }
   ],
   "source": [
    "data = [i for i in range(1,25, 2)]\n",
    "print(data)\n",
    "cubed_data = list(map(lambda x: x**3, data))\n",
    "print(cubed_data)"
   ]
  },
  {
   "cell_type": "markdown",
   "metadata": {
    "id": "3oh1Mk0RDHmT"
   },
   "source": [
    "14. Write a program which can map() and filter() to make a list whose elements are cube of\n",
    "even number in a given list"
   ]
  },
  {
   "cell_type": "code",
   "execution_count": 17,
   "metadata": {
    "colab": {
     "base_uri": "https://localhost:8080/",
     "height": 0
    },
    "id": "uaGs0Ca9DEpJ",
    "outputId": "fb52400b-26de-4a6b-98d2-b72b5275dbe1"
   },
   "outputs": [
    {
     "name": "stdout",
     "output_type": "stream",
     "text": [
      "[1, 2, 3, 4, 5, 6, 7, 8, 9, 10, 11, 12, 13, 14, 15, 16, 17, 18, 19, 20, 21, 22, 23, 24]\n",
      "[8, 64, 216, 512, 1000, 1728, 2744, 4096, 5832, 8000, 10648, 13824]\n"
     ]
    }
   ],
   "source": [
    "data = [i for i in range(1,25,1)]\n",
    "print(data)\n",
    "reqd_data = list(map(lambda x: x**3, list(filter(lambda x: x%2==0, data))))\n",
    "print(reqd_data)"
   ]
  },
  {
   "cell_type": "code",
   "execution_count": null,
   "metadata": {
    "id": "R3S3qJ2QDbj5"
   },
   "outputs": [],
   "source": []
  }
 ],
 "metadata": {
  "colab": {
   "collapsed_sections": [],
   "name": "Assignment 1 - Python Practice Questions.ipynb",
   "provenance": []
  },
  "kernelspec": {
   "display_name": "Python 3",
   "language": "python",
   "name": "python3"
  },
  "language_info": {
   "codemirror_mode": {
    "name": "ipython",
    "version": 3
   },
   "file_extension": ".py",
   "mimetype": "text/x-python",
   "name": "python",
   "nbconvert_exporter": "python",
   "pygments_lexer": "ipython3",
   "version": "3.7.2"
  }
 },
 "nbformat": 4,
 "nbformat_minor": 1
}
