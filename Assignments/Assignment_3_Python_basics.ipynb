{
  "nbformat": 4,
  "nbformat_minor": 0,
  "metadata": {
    "kernelspec": {
      "display_name": "Python 3",
      "language": "python",
      "name": "python3"
    },
    "language_info": {
      "codemirror_mode": {
        "name": "ipython",
        "version": 3
      },
      "file_extension": ".py",
      "mimetype": "text/x-python",
      "name": "python",
      "nbconvert_exporter": "python",
      "pygments_lexer": "ipython3",
      "version": "3.6.8"
    },
    "colab": {
      "name": "Assignment 3 Python basics.ipynb",
      "provenance": [],
      "collapsed_sections": []
    }
  },
  "cells": [
    {
      "cell_type": "markdown",
      "metadata": {
        "id": "l0ZzOlyxB-kf"
      },
      "source": [
        "<h1>Python: without numpy or sklearn </h1>"
      ]
    },
    {
      "cell_type": "markdown",
      "metadata": {
        "id": "C0xO8JV9B-ki"
      },
      "source": [
        "<h3> Q1: Given two matrices please print the product of those two matrices </h3>\n",
        "<pre>\n",
        "\n",
        "Ex 1: A   = [[1 3 4]\n",
        "             [2 5 7]\n",
        "             [5 9 6]]\n",
        "      B   = [[1 0 0]\n",
        "             [0 1 0]\n",
        "             [0 0 1]]\n",
        "      A*B = [[1 3 4]\n",
        "             [2 5 7]\n",
        "             [5 9 6]]\n",
        "\n",
        "     \n",
        "Ex 2: A   = [[1 2]\n",
        "             [3 4]]\n",
        "      B   = [[1 2 3 4 5]\n",
        "             [5 6 7 8 9]]\n",
        "      A*B = [[11 14 17 20 23]\n",
        "             [23 30 36 42 51]]\n",
        "             \n",
        "Ex 3: A   = [[1 2]\n",
        "             [3 4]]\n",
        "      B   = [[1 4]\n",
        "             [5 6]\n",
        "             [7 8]\n",
        "             [9 6]]\n",
        "      A*B =Not possible\n",
        "</pre>"
      ]
    },
    {
      "cell_type": "code",
      "metadata": {
        "id": "rnssAfpgB-kj",
        "colab": {
          "base_uri": "https://localhost:8080/"
        },
        "outputId": "6cbefdc5-76bf-406c-8e6b-03f6148c53c6"
      },
      "source": [
        "import sys\n",
        "\n",
        "\n",
        "def dot_mul(a, b, i, j):\n",
        "  \"\"\"\n",
        "  Call this function to find each element of the resultant matrix by sending the arrays and the current position\n",
        "\n",
        "  Parameters\n",
        "  ----------\n",
        "  a,b - input arrays\n",
        "  i,j - current position\n",
        "\n",
        "  \"\"\"\n",
        "\n",
        "  #i-th row in 'a' and j-th column in 'b'\n",
        "  len_ax = len(a)\n",
        "  len_ay = len(a[0])\n",
        "  len_bx = len(b)\n",
        "  len_by = len(b[0])\n",
        "\n",
        "  #a[i][0] to a[i][len_ay-1]\n",
        "  #b[j][0] to b[j][len_bx-1]\n",
        "  sum = 0\n",
        "  for ai, aj in zip(range(len_ay), range(len_bx)):  #iterating together both the arrays\n",
        "    sum += a[i][ai]*b[aj][j]\n",
        "\n",
        "  return sum\n",
        "\n",
        "def matrix_mul(A, B):\n",
        "  \"\"\"\n",
        "    Proper matrix multiplication by using dot product\n",
        "  \"\"\"\n",
        "  if type(A) != list or type(B) != list:\n",
        "    raise RuntimeError(\"A and B must be of list types\")\n",
        "  \n",
        "  len_x1 = len(A)\n",
        "  len_y1 = len(A[0])\n",
        "  len_x2 = len(B)\n",
        "  len_y2 = len(B[0])\n",
        "\n",
        "  if len_y1 != len_x2:\n",
        "    raise ValueError(\"Matrix is of mis-shape\")\n",
        "\n",
        "  result = [[0 for j in range(len_y2)] for i in range(len_x1)]\n",
        "  for i in range(len_x1):\n",
        "    for j in range(len_y2):\n",
        "      #dot product of row_i in A and col j in B\n",
        "      result[i][j] = dot_mul(A, B, i, j)\n",
        "  \n",
        "  print(result)\n",
        "\n",
        "  return \n",
        "\n",
        "A = [[1, 2], [3,4]]\n",
        "B = [[1,2,3,4,5], [5,6,7,8,9]]\n",
        "matrix_mul(A,B)\n",
        "\n",
        "\n",
        "A = [[1, 3, 4], [2,5,7], [5,9, 6]]\n",
        "B = [[1,0,0], [0,1,0], [0,0,1]]\n",
        "matrix_mul(A,B)\n",
        "\n",
        "A = [[1,2],[3,4]]\n",
        "B = [[1,4],[5,6],[7, 8], [9, 6]]\n",
        "\n",
        "try:\n",
        "  matrix_mul(A,B)\n",
        "except:\n",
        "  print(sys.exc_info()[1])"
      ],
      "execution_count": null,
      "outputs": [
        {
          "output_type": "stream",
          "text": [
            "[[11, 14, 17, 20, 23], [23, 30, 37, 44, 51]]\n",
            "[[1, 3, 4], [2, 5, 7], [5, 9, 6]]\n",
            "Matrix is of mis-shape\n"
          ],
          "name": "stdout"
        }
      ]
    },
    {
      "cell_type": "markdown",
      "metadata": {
        "id": "at4VwLggB-kn"
      },
      "source": [
        "<h3> Q2: Select a number randomly with probability proportional to its magnitude from the given array of n elements</h3>\n",
        "\n",
        "consider an experiment, selecting an element from the list A randomly with probability proportional to its magnitude.\n",
        "assume we are doing the same experiment for 100 times with replacement, in each experiment you will print a number that is selected randomly from A.\n",
        "\n",
        "<pre>\n",
        "Ex 1: A = [0 5 27 6 13 28 100 45 10 79]\n",
        "let f(x) denote the number of times x getting selected in 100 experiments.\n",
        "f(100) > f(79) > f(45) > f(28) > f(27) > f(13) > f(10) > f(6) > f(5) > f(0)\n",
        "</pre>"
      ]
    },
    {
      "cell_type": "code",
      "metadata": {
        "id": "B6S2dpBhB-kn",
        "colab": {
          "base_uri": "https://localhost:8080/"
        },
        "outputId": "ce3037e2-b87b-4e4f-b334-0f8dfe6db1b3"
      },
      "source": [
        "from random import uniform\n",
        "\n",
        "A = [0,5,27,6,13,28,100,45,10,79]\n",
        "times = 1000\n",
        "\n",
        "def pick_a_number_from_list(A):\n",
        "    # your code here for picking an element from with the probability propotional to its magnitude\n",
        "    rand = uniform(0,1)\n",
        "    A.sort() #important for the below logic to work\n",
        "    tot = sum(A)\n",
        "    s = [0]\n",
        "    index = -1\n",
        "\n",
        "    ## IN REF TO : https://www.quora.com/How-can-we-pick-an-element-from-an-array-with-probability-proportional-to-the-element/answer/Pradeep-George-Mathias#_%3D_\n",
        "    for i in range(1, len(A)):\n",
        "      s.append(s[i-1]+A[i])\n",
        "      if (s[i]/tot > rand): #it works because we keep increasing the cumulative sum each time\n",
        "        index = i\n",
        "        break\n",
        "    \n",
        "    return A[index]\n",
        "\n",
        "def sampling_based_on_magnitued():\n",
        "    picked_numbers = []\n",
        "    for i in range(1,times+1):\n",
        "        number = pick_a_number_from_list(A)\n",
        "        picked_numbers.append(number)\n",
        "    return picked_numbers\n",
        "\n",
        "picked_numbers = sampling_based_on_magnitued()\n",
        "\n",
        "print(\"After testing {} times\".format(times))\n",
        "A.sort() #sorting the array A\n",
        "for item in A: #checking our logic by printing the frequency of occurrence of each element\n",
        "  count = picked_numbers.count(item)\n",
        "  print(\"{} occurred {}-times\".format(item, count))\n"
      ],
      "execution_count": null,
      "outputs": [
        {
          "output_type": "stream",
          "text": [
            "After testing 1000 times\n",
            "0 occurred 0-times\n",
            "5 occurred 17-times\n",
            "6 occurred 18-times\n",
            "10 occurred 25-times\n",
            "13 occurred 41-times\n",
            "27 occurred 96-times\n",
            "28 occurred 82-times\n",
            "45 occurred 154-times\n",
            "79 occurred 239-times\n",
            "100 occurred 328-times\n"
          ],
          "name": "stdout"
        }
      ]
    },
    {
      "cell_type": "markdown",
      "metadata": {
        "id": "D1xQy2WWB-kq"
      },
      "source": [
        "<h3> Q3: Replace the digits in the string with #</h3>\n",
        "\n",
        "consider a string that will have digits in that, we need to remove all the not digits and replace the digits with #\n",
        "<pre>\n",
        "Ex 1: A = 234                Output: ###\n",
        "Ex 2: A = a2b3c4             Output: ###\n",
        "Ex 3: A = abc                Output:   (empty string)\n",
        "Ex 5: A = #2a$#b%c%561#      Output: ####\n",
        "</pre>"
      ]
    },
    {
      "cell_type": "code",
      "metadata": {
        "id": "fxczi2jzB-kr",
        "colab": {
          "base_uri": "https://localhost:8080/"
        },
        "outputId": "b04331de-51d9-4a6b-f199-4dd42b7b51b5"
      },
      "source": [
        "import re\n",
        "\n",
        "def replace_digits(input):\n",
        "  p = re.compile('[^0-9.]') #finding the non-digit elements\n",
        "  s = p.sub('', input)      #replacing those with empty string\n",
        "  p=re.compile('[0-9.]')    #finding the digits elements\n",
        "  return p.sub('#', s)      #replacing those with #\n",
        "\n",
        "inputs = [\"234\", \"a2b3c4\", \"abc\", \"#2a$#b%c%561#\"]\n",
        "for input in inputs:\n",
        "  print(replace_digits(input))"
      ],
      "execution_count": null,
      "outputs": [
        {
          "output_type": "stream",
          "text": [
            "###\n",
            "###\n",
            "\n",
            "####\n"
          ],
          "name": "stdout"
        }
      ]
    },
    {
      "cell_type": "markdown",
      "metadata": {
        "id": "j7h0Ywg7B-kw"
      },
      "source": [
        "<h3> Q4: Students marks dashboard</h3>\n",
        "\n",
        "consider the marks list of class students given two lists <br>\n",
        "Students = ['student1','student2','student3','student4','student5','student6','student7','student8','student9','student10'] <br>\n",
        "Marks = [45, 78, 12, 14, 48, 43, 45, 98, 35, 80] <br>\n",
        "from the above two lists the Student[0] got Marks[0],  Student[1] got Marks[1] and so on <br><br>\n",
        "your task is to print the name of students\n",
        "<strong>a. Who got top 5 ranks, in the descending order of marks</strong> <br>\n",
        "<strong>b. Who got least 5 ranks, in the increasing order of marks</strong><br>\n",
        "<strong>d. Who got marks between  &gt;25th percentile &lt;75th percentile, in the increasing order of marks</strong>\n",
        "\n",
        "<pre>\n",
        "Ex 1: \n",
        "Students=['student1','student2','student3','student4','student5','student6','student7','student8','student9','student10'] \n",
        "Marks = [45, 78, 12, 14, 48, 43, 47, 98, 35, 80]\n",
        "a. \n",
        "student8  98\n",
        "student10 80\n",
        "student2  78\n",
        "student5  48\n",
        "student7  47\n",
        "b.\n",
        "student3 12\n",
        "student4 14\n",
        "student9 35\n",
        "student6 43\n",
        "student1 45\n",
        "c.\n",
        "student9 35\n",
        "student6 43\n",
        "student1 45\n",
        "student7 47\n",
        "student5 48\n",
        "</pre>"
      ]
    },
    {
      "cell_type": "code",
      "metadata": {
        "id": "cxPJgItsB-kx",
        "colab": {
          "base_uri": "https://localhost:8080/"
        },
        "outputId": "159d2fba-01d8-4476-f2ec-c0fddcf55f31"
      },
      "source": [
        "def display_dash_board(students, marks):\n",
        "\n",
        "  data = [[student, mark] for (student,mark) in zip(students,marks)]\n",
        "  data.sort(key = lambda x: x[1]) #sorting based on the marks\n",
        "  N = len(data)\n",
        "\n",
        "  #interquartile range code fixed as below logic\n",
        "  max_mark = data[-1][1]\n",
        "  min_mark = data[0][1]\n",
        "  diff = max_mark - min_mark\n",
        "  p25 = diff*0.25\n",
        "  p75 = diff*0.75\n",
        "\n",
        "  #Fetchting top5 students with only the name and mark\n",
        "  top_5_students = [(x[0],x[1]) for x in data[-5:]]\n",
        "  top_5_students.reverse()\n",
        "\n",
        "  #Fetchting least 5 students with only the name and mark\n",
        "  least_5_students = [(x[0],x[1]) for x in data[0:5]]\n",
        "\n",
        "  #Fetchting 25 to 75 percentile students with only the name and mark\n",
        "  interquartile = list(filter(lambda x: x[1] >= p25 and x[1]<=p75, data))\n",
        "  students_within_25_and_75 = [(x[0],x[1]) for x in interquartile ]\n",
        "\n",
        "  return top_5_students, least_5_students, students_within_25_and_75\n",
        "\n",
        "\n",
        "students=['student1','student2','student3','student4','student5','student6','student7','student8','student9','student10'] \n",
        "marks = [45, 78, 12, 14, 48, 43, 47, 98, 35, 80]\n",
        "\n",
        "\n",
        "#students=['student1','student2','student3','student4','student5','student6','student7','student8','student9','student10', 'student11', 'student12', 'student13', 'student14', 'student15'] \n",
        "#marks = [45, 78, 12, 14, 48, 43, 47, 98, 35, 80, 10, 20, 99, 15, 56]\n",
        "\n",
        "def proper_print(lst):\n",
        "  \"\"\"\n",
        "  Just to print the output in the way shown in the question\n",
        "  \"\"\"\n",
        "  for ele in lst:\n",
        "    print(ele[0], ' ', ele[1])\n",
        "\n",
        "top_5_students, least_5_students, students_within_25_and_75 = display_dash_board(students, marks)\n",
        "print(\"Top 5 students : \")\n",
        "proper_print(top_5_students)\n",
        "print(\"\\nLeast 5 students : \") \n",
        "proper_print(least_5_students)\n",
        "print(\"\\nStudents in 25 to 75 percentile range : \")\n",
        "proper_print(students_within_25_and_75)"
      ],
      "execution_count": 12,
      "outputs": [
        {
          "output_type": "stream",
          "text": [
            "Top 5 students : \n",
            "student8   98\n",
            "student10   80\n",
            "student2   78\n",
            "student5   48\n",
            "student7   47\n",
            "\n",
            "Least 5 students : \n",
            "student3   12\n",
            "student4   14\n",
            "student9   35\n",
            "student6   43\n",
            "student1   45\n",
            "\n",
            "Students in 25 to 75 percentile range : \n",
            "student9   35\n",
            "student6   43\n",
            "student1   45\n",
            "student7   47\n",
            "student5   48\n"
          ],
          "name": "stdout"
        }
      ]
    },
    {
      "cell_type": "markdown",
      "metadata": {
        "id": "qha0OhQHB-k1"
      },
      "source": [
        "<h3> Q5: Find the closest points</h3>\n",
        "\n",
        "consider you have given n data points in the form of list of tuples like S=[(x1,y1),(x2,y2),(x3,y3),(x4,y4),(x5,y5),..,(xn,yn)] and a point P=(p,q) <br> your task is to find 5 closest points(based on cosine distance) in S from P\n",
        "<br>cosine distance between two points (x,y) and (p,q) is defind as $cos^{-1}(\\frac{(x\\cdot p+y\\cdot q)}{\\sqrt(x^2+y^2)\\cdot\\sqrt(p^2+q^2)})$\n",
        "<pre>\n",
        "Ex:\n",
        "\n",
        "S= [(1,2),(3,4),(-1,1),(6,-7),(0, 6),(-5,-8),(-1,-1)(6,0),(1,-1)]\n",
        "P= (3,-4)\n",
        "<img src='https://i.imgur.com/vIFPOcG.jpg', width=300>\n",
        "Output:\n",
        "(6,-7)\n",
        "(1,-1)\n",
        "(6,0)\n",
        "(-5,-8)\n",
        "(-1,-1)\n",
        "</pre>"
      ]
    },
    {
      "cell_type": "code",
      "metadata": {
        "id": "wA5I1g-2B-k2",
        "colab": {
          "base_uri": "https://localhost:8080/"
        },
        "outputId": "1dcaa8d0-0874-40ab-f55f-7543eaec3a7c"
      },
      "source": [
        "import math\n",
        "\n",
        "def cosine_dist(s,p):\n",
        "  \"\"\"\n",
        "  Find the cosine distance\n",
        "\n",
        "  Parameters:\n",
        "  s - tuple of 2 integers\n",
        "  p - tuple of 2 integers\n",
        "  \"\"\"\n",
        "  sx = s[0]\n",
        "  sy = s[1]\n",
        "  px = p[0]\n",
        "  py = p[1]\n",
        "  return math.acos((sx*px+sy*py)/((math.sqrt(sx*sx+sy*sy))*(px*px+py*py)))\n",
        "\n",
        "# here S is list of tuples and P is a tuple ot len=2\n",
        "def closest_points_to_p(S, P):\n",
        "\n",
        "  # Find the cosine distance and add it to the list\n",
        "  S_with_dist = [[point, cosine_dist(point, P)] for point in S ]\n",
        "\n",
        "  #Sort the list with the cosine distance (which is in the index-1)\n",
        "  S_with_dist.sort(key = (lambda x: x[1]))\n",
        "\n",
        "  #Return only the points\n",
        "  return [point[0] for point in S_with_dist[0:5]]\n",
        "\n",
        "S=[(1,2),(3,4),(-1,1),(6,-7),(0, 6),(-5,-8),(-1,-1),(6,0),(1,-1)]\n",
        "P=(3,-4)\n",
        "points = closest_points_to_p(S, P)\n",
        "print(points)"
      ],
      "execution_count": null,
      "outputs": [
        {
          "output_type": "stream",
          "text": [
            "[(6, -7), (1, -1), (6, 0), (-5, -8), (-1, -1)]\n"
          ],
          "name": "stdout"
        }
      ]
    },
    {
      "cell_type": "markdown",
      "metadata": {
        "id": "-g11jeAiB-k5"
      },
      "source": [
        "<h3> Q6: Find Which line separates oranges and apples</h3>\n",
        "consider you have given two set of data points in the form of list of tuples like \n",
        "<pre>\n",
        "Red =[(R11,R12),(R21,R22),(R31,R32),(R41,R42),(R51,R52),..,(Rn1,Rn2)]\n",
        "Blue=[(B11,B12),(B21,B22),(B31,B32),(B41,B42),(B51,B52),..,(Bm1,Bm2)]\n",
        "</pre>\n",
        "and set of line equations(in the string formate, i.e list of strings)\n",
        "<pre>\n",
        "Lines = [a1x+b1y+c1,a2x+b2y+c2,a3x+b3y+c3,a4x+b4y+c4,..,K lines]\n",
        "Note: you need to string parsing here and get the coefficients of x,y and intercept\n",
        "</pre>\n",
        "your task is to for each line that is given print \"YES\"/\"NO\", you will print yes, if all the red points are one side of the line and blue points are other side of the line, otherwise no\n",
        "<pre>\n",
        "Ex:\n",
        "Red= [(1,1),(2,1),(4,2),(2,4), (-1,4)]\n",
        "Blue= [(-2,-1),(-1,-2),(-3,-2),(-3,-1),(1,-3)]\n",
        "Lines=[\"1x+1y+0\",\"1x-1y+0\",\"1x+0y-3\",\"0x+1y-0.5\"]\n",
        "<img src='https://i.imgur.com/DoQf7mE.jpg' width=400>\n",
        "Output:\n",
        "YES\n",
        "NO\n",
        "NO\n",
        "YES\n",
        "</pre>"
      ]
    },
    {
      "cell_type": "code",
      "metadata": {
        "id": "eRxExaTRB-k6",
        "colab": {
          "base_uri": "https://localhost:8080/"
        },
        "outputId": "1e55fea0-725e-45d3-acf8-b3f3e66535d9"
      },
      "source": [
        "import math\n",
        "from functools import reduce\n",
        "\n",
        "def compare(x,y):\n",
        "  \"\"\"\n",
        "  A - if all are true\n",
        "  B - if all are false\n",
        "  C - if combination of true and false\n",
        "  \"\"\"\n",
        "  if (x==True and y==True) or (x=='A' and y==True):\n",
        "    return 'A'\n",
        "  if (y==False and x==False) or (x=='B' and y==False):\n",
        "    return 'B'\n",
        "  return 'C'\n",
        "\n",
        "def checkSign(point, line):\n",
        "  \"\"\"\n",
        "  Apply the point on the line and get the sign\n",
        "  \"\"\"\n",
        "  return line[0]*point[0]+line[1]*point[1]+line[2]\n",
        "\n",
        "def i_am_the_one(red,blue,line):\n",
        "  r = []\n",
        "  b = []\n",
        "\n",
        "  #get the sign\n",
        "  for point in red:\n",
        "    r.append(checkSign(point, line))\n",
        "  for point in blue:\n",
        "    b.append(checkSign(point, line))\n",
        "  \n",
        "  #True if a number is +ve, False if a number is -v2\n",
        "  #Then, if all numbers are +ve, reduce it to 'A', in case of -ve, reduce it to 'B'. Otherwise 'C'\n",
        "  r = reduce(compare, [True if a > 0 else False for a in r]) \n",
        "  b = reduce(compare, [True if a > 0 else False for a in b]) \n",
        "\n",
        "  #Compare based on the signs of all points of Red and Blue\n",
        "  if (r == 'A' and b == 'B') or (r == 'B' and b == 'A'):\n",
        "    return \"YES\"\n",
        "  return \"NO\"\n",
        "\n",
        "Red= [(1,1),(2,1),(4,2),(2,4), (-1,4)]\n",
        "Blue= [(-2,-1),(-1,-2),(-3,-2),(-3,-1),(1,-3)]\n",
        "Lines=[\"1x+1y+0\",\"1x-1y+0\",\"1x+0y-3\",\"0x+1y-0.5\"]\n",
        "Eqn = []\n",
        "\n",
        "for line in Lines: #Splitting each equation into a tuple of 3 values of (x,y,c)\n",
        "  eqn = line.split(\"x\")\n",
        "  x = float(eqn[0])\n",
        "  eqn = eqn[1].split(\"y\")\n",
        "  y = float(eqn[0])\n",
        "  z = float(eqn[1])\n",
        "  eqn = (x,y,z)\n",
        "  Eqn.append(eqn)\n",
        "\n",
        "for i in Eqn:\n",
        "    yes_or_no = i_am_the_one(Red, Blue, i)\n",
        "    print(yes_or_no)"
      ],
      "execution_count": null,
      "outputs": [
        {
          "output_type": "stream",
          "text": [
            "YES\n",
            "NO\n",
            "NO\n",
            "YES\n"
          ],
          "name": "stdout"
        }
      ]
    },
    {
      "cell_type": "markdown",
      "metadata": {
        "id": "9OBpURbNB-k9"
      },
      "source": [
        "<h3> Q7: Filling the missing values in the specified formate</h3>\n",
        "You will be given a string with digits and '\\_'(missing value) symbols you have to replace the '\\_' symbols as explained \n",
        "<pre>\n",
        "Ex 1: _, _, _, 24 ==> 24/4, 24/4, 24/4, 24/4 i.e we. have distributed the 24 equally to all 4 places <br>\n",
        "Ex 2: 40, _, _, _, 60 ==> (60+40)/5,(60+40)/5,(60+40)/5,(60+40)/5,(60+40)/5 ==> 20, 20, 20, 20, 20 i.e. the sum of (60+40) is distributed qually to all 5 places<br>\n",
        "Ex 3: 80, _, _, _, _  ==> 80/5,80/5,80/5,80/5,80/5 ==> 16, 16, 16, 16, 16 i.e. the 80 is distributed qually to all 5 missing values that are right to it<br>\n",
        "Ex 4: _, _, 30, _, _, _, 50, _, _  \n",
        "==> we will fill the missing values from left to right \n",
        "    a. first we will distribute the 30 to left two missing values (10, 10, 10, _, _, _, 50, _, _)\n",
        "    b. now distribute the sum (10+50) missing values in between (10, 10, 12, 12, 12, 12, 12, _, _) \n",
        "    c. now we will distribute 12 to right side missing values (10, 10, 12, 12, 12, 12, 4, 4, 4)\n",
        "</pre>\n",
        "for a given string with comma seprate values, which will have both missing values numbers like ex: \"_, _, x, _, _, _\"\n",
        "you need fill the missing values\n",
        "\n",
        "Q: your program reads a string like ex: \"_, _, x, _, _, _\" and returns the filled sequence\n",
        "\n",
        "Ex: \n",
        "<pre>\n",
        "Input1: \"_,_,_,24\"\n",
        "Output1: 6,6,6,6\n",
        "\n",
        "Input2: \"40,_,_,_,60\"\n",
        "Output2: 20,20,20,20,20\n",
        "\n",
        "Input3: \"80,_,_,_,_\"\n",
        "Output3: 16,16,16,16,16\n",
        "\n",
        "Input4: \"_,_,30,_,_,_,50,_,_\"\n",
        "Output4: 10,10,12,12,12,12,4,4,4\n",
        "</pre>\n",
        "\n"
      ]
    },
    {
      "cell_type": "code",
      "metadata": {
        "id": "nZmpzHs_B-k-",
        "colab": {
          "base_uri": "https://localhost:8080/"
        },
        "outputId": "8a0a2493-1d91-46b2-bed5-f71e28d32988"
      },
      "source": [
        "# write your python code here\n",
        "# you can take the above example as sample input for your program to test\n",
        "# it should work for any general input try not to hard code for only given input strings\n",
        "\n",
        "def fill(num, ran, s):\n",
        "  \"\"\"\n",
        "  Fill the range with the values\n",
        "  \"\"\"\n",
        "  to_fill = s/(ran[1]-ran[0]+1)\n",
        "  for i in range(ran[0], ran[1]+1):\n",
        "    num[i] = to_fill\n",
        "\n",
        "def curve_smoothing(string):\n",
        "  s = string.split(\",\")\n",
        "  num = [int(part) if part != \"_\" else None for part in s] #split the string into list of numbers/None\n",
        "  \n",
        "  s = 0 #sum for a range\n",
        "  filling = False \n",
        "  ran=[-1, -1] #track what range of the list to fill\n",
        "\n",
        "  for i in range(len(num)):\n",
        "    if filling == False : #start of a range\n",
        "      ran[0] = i \n",
        "      s = 0 if num[0] is None else num[i]\n",
        "      filling = True\n",
        "    elif filling and num[i] != None: #end of a range\n",
        "      ran[1] = i\n",
        "      s = s + num[i]\n",
        "      fill(num, ran, s)\n",
        "      filling = True\n",
        "      ran[0] = i\n",
        "      s = num[i]\n",
        "      i-=1\n",
        "    else: #blank space, so extending the range to fill\n",
        "      ran[1] = i\n",
        "\n",
        "  if filling:\n",
        "    fill(num, ran, s)\n",
        "  return num\n",
        "    \n",
        "\n",
        "S=  [\"_,_,30,_,_,_,50,_,_\", \"_,_,_,24\", \"40,_,_,_,60\", \"80,_,_,_,_\"]\n",
        "for s in S:\n",
        "  print(s)\n",
        "  smoothed_values= curve_smoothing(s)\n",
        "  print(smoothed_values)"
      ],
      "execution_count": null,
      "outputs": [
        {
          "output_type": "stream",
          "text": [
            "_,_,30,_,_,_,50,_,_\n",
            "[10.0, 10.0, 12.0, 12.0, 12.0, 12.0, 4.0, 4.0, 4.0]\n",
            "_,_,_,24\n",
            "[6.0, 6.0, 6.0, 6.0]\n",
            "40,_,_,_,60\n",
            "[20.0, 20.0, 20.0, 20.0, 20.0]\n",
            "80,_,_,_,_\n",
            "[16.0, 16.0, 16.0, 16.0, 16.0]\n"
          ],
          "name": "stdout"
        }
      ]
    },
    {
      "cell_type": "markdown",
      "metadata": {
        "id": "RBz4pzlfB-lB"
      },
      "source": [
        "<h3> Q8: Filling the missing values in the specified formate</h3>\n",
        "You will be given a list of lists, each sublist will be of length 2 i.e. [[x,y],[p,q],[l,m]..[r,s]]\n",
        "consider its like a martrix of n rows and two columns\n",
        "1. the first column F will contain only 5 uniques values (F1, F2, F3, F4, F5)\n",
        "2. the second column S will contain only 3 uniques values (S1, S2, S3)\n",
        "<pre>\n",
        "your task is to find\n",
        "a. Probability of P(F=F1|S==S1), P(F=F1|S==S2), P(F=F1|S==S3)\n",
        "b. Probability of P(F=F2|S==S1), P(F=F2|S==S2), P(F=F2|S==S3)\n",
        "c. Probability of P(F=F3|S==S1), P(F=F3|S==S2), P(F=F3|S==S3)\n",
        "d. Probability of P(F=F4|S==S1), P(F=F4|S==S2), P(F=F4|S==S3)\n",
        "e. Probability of P(F=F5|S==S1), P(F=F5|S==S2), P(F=F5|S==S3)\n",
        "</pre>\n",
        "Ex:\n",
        "\n",
        "<pre>\n",
        "[[F1,S1],[F2,S2],[F3,S3],[F1,S2],[F2,S3],[F3,S2],[F2,S1],[F4,S1],[F4,S3],[F5,S1]]\n",
        "\n",
        "a. P(F=F1|S==S1)=1/4, P(F=F1|S==S2)=1/3, P(F=F1|S==S3)=0/3\n",
        "b. P(F=F2|S==S1)=1/4, P(F=F2|S==S2)=1/3, P(F=F2|S==S3)=1/3\n",
        "c. P(F=F3|S==S1)=0/4, P(F=F3|S==S2)=1/3, P(F=F3|S==S3)=1/3\n",
        "d. P(F=F4|S==S1)=1/4, P(F=F4|S==S2)=0/3, P(F=F4|S==S3)=1/3\n",
        "e. P(F=F5|S==S1)=1/4, P(F=F5|S==S2)=0/3, P(F=F5|S==S3)=0/3\n",
        "</pre>\n",
        "\n",
        "\n"
      ]
    },
    {
      "cell_type": "code",
      "metadata": {
        "id": "e-1giz1MB-lC",
        "colab": {
          "base_uri": "https://localhost:8080/"
        },
        "outputId": "0b10fdf3-386a-456b-91e1-4d92ca7e858a"
      },
      "source": [
        "\n",
        "def compute_conditional_probabilites(A):\n",
        "  F = ['F1', 'F2', 'F3', 'F4', 'F5']\n",
        "  S = ['S1', 'S2', 'S3']\n",
        "\n",
        "  result = [] #2d list to have the result of all conditional probabilities\n",
        "  for i in range(len(F)):\n",
        "    result.append([])\n",
        "\n",
        "  for s in S:\n",
        "    temp = [a for a in A if a[1] == s ]       #getting the list of particular 'S'\n",
        "    count = len(temp)                         #getting the count\n",
        "    for index,f in enumerate(F, start=0):\n",
        "        f_count = temp.count([f,s])           #getting the occurrences of F with the particular S\n",
        "        result[index].append((f_count, count))#Saving the result in the 2d list\n",
        "\n",
        "\n",
        "  char_i = ord('a')\n",
        "  for f_i, f_c in enumerate(result, start=0): #Iterating the list for each F\n",
        "    line = chr(char_i)+\". \"                   #for printing a, b, c, d, e in the result\n",
        "    for s_i, s_c in enumerate(f_c, start=0):\n",
        "      line = line + str(\"P(F={}|S=={})={}/{}\".format(F[f_i], S[s_i], s_c[0], s_c[1]))\n",
        "      if s_i < len(s_c) :\n",
        "        line = line + \", \"\n",
        "    print(line)\n",
        "    char_i += 1                               #Next character for printing\n",
        "    \n",
        "\n",
        "A = [['F1','S1'],['F2','S2'],['F3','S3'],['F1','S2'],['F2','S3'],['F3','S2'],['F2','S1'],['F4','S1'],['F4','S3'],['F5','S1']]\n",
        "\n",
        "compute_conditional_probabilites(A)"
      ],
      "execution_count": null,
      "outputs": [
        {
          "output_type": "stream",
          "text": [
            "a. P(F=F1|S==S1)=1/4, P(F=F1|S==S2)=1/3, P(F=F1|S==S3)=0/3\n",
            "b. P(F=F2|S==S1)=1/4, P(F=F2|S==S2)=1/3, P(F=F2|S==S3)=1/3\n",
            "c. P(F=F3|S==S1)=0/4, P(F=F3|S==S2)=1/3, P(F=F3|S==S3)=1/3\n",
            "d. P(F=F4|S==S1)=1/4, P(F=F4|S==S2)=0/3, P(F=F4|S==S3)=1/3\n",
            "e. P(F=F5|S==S1)=1/4, P(F=F5|S==S2)=0/3, P(F=F5|S==S3)=0/3\n"
          ],
          "name": "stdout"
        }
      ]
    },
    {
      "cell_type": "markdown",
      "metadata": {
        "id": "n4HS87QmB-lF"
      },
      "source": [
        "<h3> Q9: Given two sentances S1, S2</h3>\n",
        "You will be given two sentances S1, S2 your task is to find \n",
        "<pre>\n",
        "a. Number of common words between S1, S2\n",
        "b. Words in S1 but not in S2\n",
        "c. Words in S2 but not in S1\n",
        "</pre>\n",
        "\n",
        "Ex: \n",
        "<pre>\n",
        "S1= \"the first column F will contain only 5 uniques values\"\n",
        "S2= \"the second column S will contain only 3 uniques values\"\n",
        "Output:\n",
        "a. 7\n",
        "b. ['first','F','5']\n",
        "c. ['second','S','3']\n",
        "</pre>"
      ]
    },
    {
      "cell_type": "code",
      "metadata": {
        "id": "Ez7hlHK0B-lG",
        "colab": {
          "base_uri": "https://localhost:8080/"
        },
        "outputId": "a7e91f8c-995f-4c76-a4ac-edf6d020f557"
      },
      "source": [
        "# write your python code here\n",
        "# you can take the above example as sample input for your program to test\n",
        "# it should work for any general input try not to hard code for only given input strings\n",
        "\n",
        "# you can free to change all these codes/structure\n",
        "def string_features(S1, S2):\n",
        "  a,b,c = None, None, None\n",
        "\n",
        "  #Since it's just said that no of common words. It is assumed that if a sentence has two same words, it is assumed as a single unique word\n",
        "  s1 = set()\n",
        "  s2 = set()\n",
        "\n",
        "  s1.update(S1.split()) #adding the split words to the set\n",
        "  s2.update(S2.split())\n",
        "\n",
        "  a = len(s1.intersection(s2))  #find the common words using intersection and get the count\n",
        "  b = s1.difference(s2)         #set difference s1 - s2\n",
        "  c = s2.difference(s1)         #set difference s2 - s1\n",
        "\n",
        "  return a, b, c\n",
        "\n",
        "S1= \"the first column F will contain only 5 uniques values\"\n",
        "S2= \"the second column S will contain only 3 uniques values\"\n",
        "a,b,c = string_features(S1, S2)\n",
        "print(\"a. \", a)\n",
        "print(\"b. \", b)\n",
        "print(\"c. \", c)"
      ],
      "execution_count": null,
      "outputs": [
        {
          "output_type": "stream",
          "text": [
            "a.  7\n",
            "b.  {'first', '5', 'F'}\n",
            "c.  {'S', 'second', '3'}\n"
          ],
          "name": "stdout"
        }
      ]
    },
    {
      "cell_type": "markdown",
      "metadata": {
        "id": "XefXVEjCB-lI"
      },
      "source": [
        "<h3> Q10: Given two sentances S1, S2</h3>\n",
        "You will be given a list of lists, each sublist will be of length 2 i.e. [[x,y],[p,q],[l,m]..[r,s]]\n",
        "consider its like a martrix of n rows and two columns\n",
        "\n",
        "a. the first column Y will contain interger values <br>\n",
        "b. the second column $Y_{score}$ will be having float values <br>\n",
        "Your task is to find the value of $f(Y,Y_{score}) = -1*\\frac{1}{n}\\Sigma_{for each Y,Y_{score} pair}(Ylog10(Y_{score})+(1-Y)log10(1-Y_{score}))$ here n is the number of rows in the matrix\n",
        "<pre>\n",
        "Ex:\n",
        "[[1, 0.4], [0, 0.5], [0, 0.9], [0, 0.3], [0, 0.6], [1, 0.1], [1, 0.9], [1, 0.8]]\n",
        "output:\n",
        "0.4243099\n",
        "</pre>\n",
        "$\\frac{-1}{8}\\cdot((1\\cdot log_{10}(0.4)+0\\cdot log_{10}(0.6))+(0\\cdot log_{10}(0.5)+1\\cdot log_{10}(0.5)) + ... + (1\\cdot log_{10}(0.8)+0\\cdot log_{10}(0.2)) )$"
      ]
    },
    {
      "cell_type": "code",
      "metadata": {
        "id": "N9zkagyNB-lJ",
        "colab": {
          "base_uri": "https://localhost:8080/"
        },
        "outputId": "6331bb8f-10f7-4cb0-8beb-9c2785c53b39"
      },
      "source": [
        "import math\n",
        "\n",
        "def compute_log_loss(A):\n",
        "  loss = float(0.0) #initialize\n",
        "  for a in A:\n",
        "    loss += ((a[0]*math.log10(a[1])) + (1-a[0])*math.log10(1-a[1]) ) #error for each\n",
        "  return loss*-1/len(A)   #loss * -1/n\n",
        "\n",
        "A = [[1, 0.4], [0, 0.5], [0, 0.9], [0, 0.3], [0, 0.6], [1, 0.1], [1, 0.9], [1, 0.8]]\n",
        "loss = compute_log_loss(A)\n",
        "print(loss)"
      ],
      "execution_count": null,
      "outputs": [
        {
          "output_type": "stream",
          "text": [
            "0.42430993457031635\n"
          ],
          "name": "stdout"
        }
      ]
    }
  ]
}